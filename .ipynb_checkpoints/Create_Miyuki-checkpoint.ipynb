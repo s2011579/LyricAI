{
 "cells": [
  {
   "cell_type": "code",
   "execution_count": 1,
   "metadata": {},
   "outputs": [],
   "source": [
    "from __future__ import print_function\n",
    "import io\n",
    "import random\n",
    "import re\n",
    "import string\n",
    "import sys\n",
    "\n",
    "import matplotlib.pyplot as plt\n",
    "import MeCab\n",
    "import numpy as np\n",
    "from tensorflow.keras.callbacks import LambdaCallback,EarlyStopping\n",
    "from keras.models import Sequential, load_model\n",
    "from keras.layers import Dense, LSTM, Bidirectional, Dropout\n",
    "from keras.optimizers import RMSprop\n",
    "from keras.utils.data_utils import get_file\n",
    "import pandas as pd\n",
    "import pickle"
   ]
  },
  {
   "cell_type": "code",
   "execution_count": 2,
   "metadata": {},
   "outputs": [],
   "source": [
    "# pickleからデータを読み取る\n",
    "f = open('./lyrics_list.txt', 'rb')\n",
    "lyrics = pickle.load(f)\n",
    "\n",
    "# 辞書作成\n",
    "tagger = MeCab.Tagger('/usr/local/lib/mecab/dic/mecab-ipadic-neologd/')\n",
    "\n",
    "def wakatigaki(text):\n",
    "    word_list = []\n",
    "    for word_id, elm in enumerate(tagger.parse(text).split('\\n')):\n",
    "        if elm and elm != 'EOS':\n",
    "            elm = elm.split('\\t')\n",
    "            info = elm[1].split(',')\n",
    "            word_list.append(elm[0])\n",
    "    return word_list\n",
    "lyrics = [wakatigaki(lyric) for lyric in lyrics]\n",
    "\n",
    "words = []\n",
    "for lyric in lyrics:\n",
    "    for word in lyric:\n",
    "        if word not in words:\n",
    "            words.append(word)\n",
    "word = sorted(set(words))\n",
    "word_indices = dict((c, i) for i, c in enumerate(words))\n",
    "indices_word = dict((i, c) for i, c in enumerate(words))\n",
    "\n",
    "all_lyric = []\n",
    "for lyric in lyrics:\n",
    "    for word in lyric:\n",
    "        all_lyric.append(word)"
   ]
  },
  {
   "cell_type": "code",
   "execution_count": 6,
   "metadata": {},
   "outputs": [
    {
     "name": "stdout",
     "output_type": "stream",
     "text": [
      "nb sequences: 31637\n"
     ]
    }
   ],
   "source": [
    "# x(3文字ずつずらして5文字分のx)とy(5文字のxの次の文字)を準備\n",
    "maxlen = 5\n",
    "step = 3\n",
    "sentences = []\n",
    "next_words = []\n",
    "for lyric in lyrics:\n",
    "    for i in range(0, len(lyric) - maxlen, step):\n",
    "        sentences.append(lyric[i: i + maxlen])\n",
    "        next_words.append(lyric[i + maxlen])\n",
    "print('nb sequences:', len(sentences))\n",
    "\n",
    "# ベクトル化\n",
    "x = np.zeros((len(sentences), maxlen, len(words)), dtype=np.bool)\n",
    "y = np.zeros((len(sentences), len(words)), dtype=np.bool)\n",
    "for i, sentence in enumerate(sentences):\n",
    "    for t, word in enumerate(sentence):\n",
    "        x[i, t, word_indices[word]] = 1\n",
    "    y[i, word_indices[next_words[i]]] = 1\n",
    "    \n",
    "print(x.shape)"
   ]
  },
  {
   "cell_type": "code",
   "execution_count": 9,
   "metadata": {},
   "outputs": [
    {
     "name": "stdout",
     "output_type": "stream",
     "text": [
      "Model: \"sequential\"\n",
      "_________________________________________________________________\n",
      " Layer (type)                Output Shape              Param #   \n",
      "=================================================================\n",
      " bidirectional (Bidirectiona  (None, 5, 256)           7485440   \n",
      " l)                                                              \n",
      "                                                                 \n",
      " bidirectional_1 (Bidirectio  (None, 128)              164352    \n",
      " nal)                                                            \n",
      "                                                                 \n",
      " dense (Dense)               (None, 128)               16512     \n",
      "                                                                 \n",
      " dense_1 (Dense)             (None, 7181)              926349    \n",
      "                                                                 \n",
      "=================================================================\n",
      "Total params: 8,592,653\n",
      "Trainable params: 8,592,653\n",
      "Non-trainable params: 0\n",
      "_________________________________________________________________\n"
     ]
    },
    {
     "name": "stderr",
     "output_type": "stream",
     "text": [
      "C:\\Users\\root1\\anaconda3\\lib\\site-packages\\keras\\optimizers\\optimizer_v2\\rmsprop.py:135: UserWarning: The `lr` argument is deprecated, use `learning_rate` instead.\n",
      "  super(RMSprop, self).__init__(name, **kwargs)\n"
     ]
    }
   ],
   "source": [
    "#モデルの構築\n",
    "model = Sequential()\n",
    "model.add(Bidirectional(LSTM(128, return_sequences=True), input_shape=(maxlen, len(words))))\n",
    "model.add(Bidirectional(LSTM(64)))\n",
    "model.add(Dense(128, activation='linear'))\n",
    "model.add(Dense(len(words), activation='softmax'))\n",
    "\n",
    "optimizer = RMSprop(lr=0.01)\n",
    "model.compile(loss='categorical_crossentropy', optimizer=optimizer)\n",
    "model.summary()"
   ]
  },
  {
   "cell_type": "code",
   "execution_count": 15,
   "metadata": {},
   "outputs": [],
   "source": [
    "# 確率の高い単語を抽出\n",
    "def sample(preds, temperature=1.0):\n",
    "    # helper function to sample an index from a probability array\n",
    "    preds = np.asarray(preds).astype('float64')\n",
    "    preds = np.log(preds) / temperature\n",
    "    exp_preds = np.exp(preds)\n",
    "    preds = exp_preds / np.sum(exp_preds)\n",
    "    probas = np.random.multinomial(1, preds, 1)\n",
    "    return np.argmax(probas)\n",
    "\n",
    "# 予測を行う\n",
    "def generate_lyric(_sentence=None, maxlen = 5):\n",
    "    if _sentence is None:\n",
    "        start_index = random.randint(0, len(all_lyric) - maxlen - 1)\n",
    "        start_index = random.randint(0, len(all_lyric) - maxlen - 1)\n",
    "        _sentence = all_lyric[start_index: start_index + maxlen]\n",
    "    for diversity in [0.2, 0.5, 1.0, 1.2]:\n",
    "        sentence = _sentence\n",
    "        print('----- diversity:', diversity)\n",
    "\n",
    "        generated = ''\n",
    "        generated += \"\".join(sentence)\n",
    "        print('----- Generating with seed: \"' + \"\".join(sentence) + '\"')\n",
    "        sys.stdout.write(generated)\n",
    "\n",
    "        for i in range(400):\n",
    "            x_pred = np.zeros((1, maxlen, len(words)))\n",
    "            for t, word in enumerate(sentence):\n",
    "                x_pred[0, t, word_indices[word]] = 1.\n",
    "\n",
    "            preds = model.predict(x_pred, verbose=0)[0]\n",
    "            next_index = sample(preds, diversity)\n",
    "            next_word = indices_word[next_index]\n",
    "\n",
    "            generated += next_word\n",
    "            sentence = sentence[1:]\n",
    "            sentence.append(next_word)\n",
    "\n",
    "            sys.stdout.write(next_word)\n",
    "            sys.stdout.write(' ')\n",
    "            sys.stdout.flush()\n",
    "        print()"
   ]
  },
  {
   "cell_type": "code",
   "execution_count": 14,
   "metadata": {},
   "outputs": [],
   "source": [
    "# Generate_Miyukiを呼び出す。\n",
    "model = load_model('Generate_Miyuki.h5', compile=False)"
   ]
  },
  {
   "cell_type": "code",
   "execution_count": 16,
   "metadata": {},
   "outputs": [
    {
     "name": "stdout",
     "output_type": "stream",
     "text": [
      "----- diversity: 0.2\n",
      "----- Generating with seed: \"見つけたつもりで近づけ\"\n",
      "見つけたつもりで近づけ気 が 逃げる あり 返れ へ あり たり それ が あり 誰 か 等 何 を 見 誰 も ない 旅 たち 知ら た 子供 に です いつ まで も あいつ を 貴方 だって 六 が 逃げる まだ 探し た 消え 見 三 ゆけ ない 愛 に 私 は 思い出 を ばり 冬 を 今夜 は 風 でし と な ど それ なら 風 に なら なけれ ば かまわ ない の 誰 ね 私 の が 月日 へ 夢 の 中 私 の 人 の 国 まで も なり ながら 目 を 見 て 私 は あたし 旅 の 外 街 は ゆけ 歌 が 旅 に 行く 縁 慣れ 返れ 誰 笑っ て も ない 心 も 見 た 人 が それ で あて も ところ 別人 に 誰 が 誰 も です 冬 に つい て あたし 見 た 私 たち へ 知ら ない いい こと と 誰 だ は あたし ため 月 の 限り 私 の 白い 愛 を 狩り に 淋し 心 と 私 たち が 知ら 見 た 何 も も ない 気 に し ない わ 気 が つい て いる わ と 街 で のに お いい な でき ぬ 誰 何 を 探し て 私 まで は 目 の 水 別れ も みせ 気 に 心 へ 夢 の 中 から 人 を 見 て い た せい ない ね や 真似 し てる わ わ 誰 明日 を 眠り へ 欠ける 気 が 夏 あの あの 娘 から 風 が 大好き かい と どく どく あたし が 外 旅人 へ を ため に 愛 涙 が わけ 思い出さ 笑っ て あげよ う は 遠い 昔 の ため に 誰 が まだ 飛べ ない みんな 好き だっ た 奴 空 の や あり 真似 思い出し た 私 きり が こんな 人 わ 人 あり た こと が です 気 空 を ある い ない もう 歌っ てる 定義 ある の 水 に 知ら くる 君 が い なかっ た と 言え ない 真夜中 忘れ て 冬 を 探し ながら あの それ まで 名前 も プラス 私 私 の が 誰 も この 付く ため ながら 子供 たち と 風 が 殴る 忘れ た 知ら 見 て くれる なんて 見 ない わ あたし が 待っ てる もの も 旅 の こんな に で 人 は 私 たち を ない 私 の 気 が なさい て 愛 わ 見 ない 夢 を 見 ず \n",
      "----- diversity: 0.5\n",
      "----- Generating with seed: \"見つけたつもりで近づけ\"\n",
      "見つけたつもりで近づけ走っ て ゆく 明日 もしか で ため に つい なんだか は それ が 泥 は もしか し たら まだ まだ 好き だ 月 へ 気 が する 残さ いる な 踊っ は あたし だけ と は てる 人 の 答え から そんな 荒野 だけ に この 生き て いる なり たい いい と もう いい こと が せ ない 君 が 探し かい 呼ん そんな こと ゆき は なり に まだ 遠く 離れ て 者 心 は 月 に 波 ない 大好き もの つい 下 に 空 なんて なれる せい から あたし 心 一生 一瞬 もの 身 へ 思い出さ せ て とどけ 貴方 国 まで 私 の 気 を ふり て 空 へ こんな 空 へ でしょ う 季節 から に 冬 冬 を 三 真夜中 生まれ に 心 ある なんて 気 が し ない か 気 を 流れ て は と 知ら ず だろ う か 冬 は わ 私 私 は は あなた の 中 の 中 の 毒 の 話 に なる わかり 眠り へ と 呼び た のに い なる あの 日 に あたし は あの 人 を 思い出 てる 外 から まだ なる 真夜中 星 を 生まれ は 昔 の 者 が あたい 人 娘 ‥ の なり に 心 身体 を 私 たち から は 知ら ない この まま ゆけ 一 こんな 今日 も 踊っ て と 屋根 か 恋し あぁ 都合 もと へ 遠く も 見つめ て 恋しく ある の か ここ から 毒 て こと 風 の 私 も は 探し た 人 知ら 夏 お の ある 夢 が よ ら 見 た 誰 か 知ら ない ひとり ふり 返れ 歩き だせ 忘れ られ て ガラス なら ば 今 が せい で から 愛 が いつ でも ね あたし ひとり だって はじめ から 夢 へ けれど な のに も 遠く 遠く 遠く 遠く 歌 旅 旅 を へ 罪 を かい 遠く ここ に まだ まだ まだ まだ あなた が られる 愛 を 思っ た 人 の こと も ある 私 は 知ら は 歌っ て いる 遠く 離れ て です を 目 に よ かけ た 者 が 笑っ てる いい まで 空 の 愛 あたし の 荒野 て いる 風 は いつ だって 夢 を 人 に 今 を あの こと ふたつ 誰 が 夏 限り つい た 帰り たく て 泣い てる あんた の 町 より 縁 月 なんて 今 を 空 へ わ 人 酒 おはよう 毒 \n",
      "----- diversity: 1.0\n",
      "----- Generating with seed: \"見つけたつもりで近づけ\"\n",
      "見つけたつもりで近づけ冷たい 限り 国 へ 草原 の 流れ 明日 に 言う 街 君 ね 誰 も 掌 に ため な 人 は わけ 明日 を なんか 思い出さ たち ばかり が みつけ 見 てる あぁ 季節 が 笑ん もう一度 覚え た 間 ふり も が 幻 風 が 待っ を とる の わ あなた だ 思い出 を もう 気 が 気 が はじめ な なり 昨日 笑っ たく 私 は 夜 は 腕 たち だけ 堕ちる けれど 終わり が 歌っ て くれ 三 ひとり だって もしか 前 夢 わずか だ たび へ い た 本当 の 愛 を 次第 胸 の 席 へ 罪 や ンイ あて 待っ てる 大きな 素直 付け 旅 の あたし に 季節 足 を 人生 て こわれ 降っ て 限り を 乗せ て じ あり 男 三 奴 泣い て ます 私 て 戻る 甘い よう で 彼方 でしょ う か 寒い 酒 上着 まで すべて と 眠れ ない 陰 まい 敵 裏 の 愛 いつか 仕事 ながら たら 距離 より 縁 おまえ よ らしい し 死ぬ に なり は 帰り 屋根 部屋 月 幸せ がる 嘘 に 描 眠る 生まれ て 胸 の おはよう つか 自慢 もらう 鳥 私 私 の 帰っ た の 日 ほか あの 人 と おはよう たやすく しょ う ねこ 互い の ばかり それでも すぐ 今夜 も 二度と 立ち直れ 無き 変わる のに 心 掌 なら 嘘 の 気 も 夢 答え しれ か 昨日 が 泣か ない 命 だけ で たり 見 この 交差点 を 君 を とも 遙 か ところ を ねこ 偽物 深まる 月 かけれ ば なぐさめ あなた は 忘れ物 やっと 心 荒野 に 酒 が 急 に 月日 を 空 を どこ へ も 高く つかん ささやか ため くれる 私 遠い だせる も あっ た 風 帰り でしょ う はるか に あの 名前 ばかり 月 集め 私 は あの 指輪 ほしい 涙 なんにも ため 人 に 本気 心 と の かなた の て よどみ くれる しょ だ 過去 が なく で 合う も 仕事場 母 ゆけ 町 大好き られる ねぇ それ 笑っ てる あたし を あいつ 娘 １ 年 ずっと 降っ て 憧れ を 小さな 代り が 飾り 冬 知っ た わ だれ かい ら いい 見知らぬ 暇 な のに よい 使い から あなた だ 憐れん さ 魚 より かご かなわ 声 船 た 生き てる 復活 いつか あっ てる 日々 が もの を の 中 よう の ミラージュ 風 わ いつも しょう来 生 だっ 喰っ て 気がつい 晴れ \n",
      "----- diversity: 1.2\n",
      "----- Generating with seed: \"見つけたつもりで近づけ\"\n",
      "見つけたつもりで近づけ定義 ら に あの 歌 を 走っ て ゆく 車 真夜中 は いっ こわく なんぼ 回る 消える 帰る 突然 人違い 過ぎ て あう もう 長い 貰え 傾斜 透きとおっ よ つい 信じ 歌 て どこ へ ば 行く そのまま 綴っ あて も バス 必要 の 波 を 傷 の 白い なる 歩く わけ な 昨日 知っ て 出す の 謝れ 迷い むじな そらし よ わから てる 光る が つい 三 すまし た 私 は は たやすく 縁 答え に です 行く ゃんせ ひとり どう まる 出来事 返す 見せ に 飛ん 病院 の 気 に 欲しかっ とっ 疲れ まま 仲間 それぞれ 涙 隙 自転車 円 呼ば 探し 三 泣か おしまい で うまく 終わり 一 私 たち まで なら 寝息 笑わ ない ど 雀 かい 悪く マウンド が 挨拶 思え 、 傷つけ わけ の 筈 だろ う 見つけ たく 行け 深く 縁 漕い で 後ろ姿 あなた 十 水平 あの 独り 振る 友情 少し それ 貴女 けれど 言え 歩い なき 魂 が 笑っ 好き です 迂回 髪 見え 過ぎ 通り過ぎ 私 よかっ 夢 三 真空 過ぎ 三 ぼん 心 せ てる 終わり 約束 を 命 に だ 幸せ こんな 伝わ 、 、 見る 思い出 ある ある 小さき 花束 いら て 精一杯 残せ 外国 や しょ う 泣き顔 に 夏 んで 泣き 下 くり 返す ね 上 こぼれ 夢 の 内 生き てる 溜息 バカ てる もう一度 冷め た 吹く あて 度 有る 夢 当たり もう 冬 いつも 頃 旅 は 天 帰り 誰 も さかずき 火 泣け てる 見れ くに 今夜 生きる 暗い 糸 時 日々 は つば 野ウサギ なんて なぐさめ 髪 雀 の 愛 伝わ 互い の 夢 たり 空 きれ なっ 誰 突然 まい あかし 何 郷 女 届か 誰 も 都合 たやす あたい 大好き に 全部 海 素直 何 来 ない うち は もう 押さえ込ん 染まる ここ 凍てつく 振り向い ずつ もん 長距離 国 続け たく 明日 見 てる 隙 が 港 に 傷つい た 消える あたし 抱か 齢 潮 夢み 幾 だれ しょう来 誰 故郷 こそ 入れ なきゃ そそのかす 近く 、 線路 出かけ ない 部屋 出し 絵 身の程 後 海 たい だめ ね ほしい 目 を 暮らし へ 話 を 欲 合え は 石 祖国 時代 教え て そんな から なかっ た 思い出 が 行こ なら 二度と 裏 慣れ 知ら 呼ぶ 待っ てる つくる たて たら 叫び 決め 向かう それ の 渡 積み 裏切り と 世界 肩 で たい 眠る 胸 かまわ あぁ 心 まで か 追いかける 故郷 次 へ へ \n"
     ]
    }
   ],
   "source": [
    "generate_lyric() # ランダムワード"
   ]
  },
  {
   "cell_type": "code",
   "execution_count": null,
   "metadata": {},
   "outputs": [],
   "source": [
    "sentence = ['夢',  'の',  '中',  '夜', 'に']\n",
    "generate_lyric(sentence)"
   ]
  }
 ],
 "metadata": {
  "kernelspec": {
   "display_name": "Python 3",
   "language": "python",
   "name": "python3"
  },
  "language_info": {
   "codemirror_mode": {
    "name": "ipython",
    "version": 3
   },
   "file_extension": ".py",
   "mimetype": "text/x-python",
   "name": "python",
   "nbconvert_exporter": "python",
   "pygments_lexer": "ipython3",
   "version": "3.8.3"
  }
 },
 "nbformat": 4,
 "nbformat_minor": 4
}
